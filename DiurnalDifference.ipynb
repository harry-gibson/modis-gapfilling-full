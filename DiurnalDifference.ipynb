{
 "cells": [
  {
   "cell_type": "code",
   "execution_count": 1,
   "metadata": {
    "collapsed": false
   },
   "outputs": [],
   "source": [
    "from osgeo import gdal\n",
    "import numpy as np\n",
    "import numexpr as ne\n",
    "import os\n",
    "import glob\n",
    "import rasterio"
   ]
  },
  {
   "cell_type": "code",
   "execution_count": 2,
   "metadata": {
    "collapsed": false
   },
   "outputs": [],
   "source": [
    "DayDir = r'F:\\MOD11A2_Day_Output\\Output_Final_30k_2030pc'\n",
    "NightDir = r'F:\\MOD11A2_Night_Output\\Output_Final_30k_2030pc'\n",
    "DiffDir = r'G:\\DiurnalDiffs'"
   ]
  },
  {
   "cell_type": "code",
   "execution_count": 3,
   "metadata": {
    "collapsed": false
   },
   "outputs": [],
   "source": [
    "DayFiles = glob.glob(os.path.join(DayDir,'*Data.tif'))\n",
    "NightFiles = glob.glob(os.path.join(NightDir,'*Data.tif'))"
   ]
  },
  {
   "cell_type": "code",
   "execution_count": 4,
   "metadata": {
    "collapsed": false
   },
   "outputs": [
    {
     "data": {
      "text/plain": [
       "681"
      ]
     },
     "execution_count": 4,
     "metadata": {},
     "output_type": "execute_result"
    }
   ],
   "source": [
    "len(DayFiles)"
   ]
  },
  {
   "cell_type": "code",
   "execution_count": 5,
   "metadata": {
    "collapsed": false
   },
   "outputs": [
    {
     "data": {
      "text/plain": [
       "681"
      ]
     },
     "execution_count": 5,
     "metadata": {},
     "output_type": "execute_result"
    }
   ],
   "source": [
    "len(NightFiles)"
   ]
  },
  {
   "cell_type": "code",
   "execution_count": 6,
   "metadata": {
    "collapsed": false
   },
   "outputs": [],
   "source": [
    "for i in range (len(DayFiles)):\n",
    "    dayFile = DayFiles[i]\n",
    "    nightFile = NightFiles[i]\n",
    "    assert dayFile.replace('Day','Night') == nightFile\n",
    "    outBaseName = os.path.basename(dayFile).replace('Day', 'DiurnalDifference').replace('_Filled_Data','')\n",
    "    outFile = os.path.join(DiffDir, outBaseName)\n",
    "    #print outFile\n",
    "    inFile = gdal.Open(dayFile)\n",
    "    inBand = inFile.GetRasterBand(1)\n",
    "    dayData = inBand.ReadAsArray()\n",
    "    NDV = inBand.GetNoDataValue()\n",
    "    inGT = inFile.GetGeoTransform()\n",
    "    inProj = inFile.GetProjection()\n",
    "    \n",
    "    inFile = gdal.Open(nightFile)\n",
    "    inBand = inFile.GetRasterBand(1)\n",
    "    nightData = inBand.ReadAsArray()\n",
    "   # where ((dayData == NDV) or (nightData == NDV), NDV)\n",
    "    diffData = ne.evaluate(\"where (((dayData == NDV) | (nightData == NDV)), NDV, dayData - nightData)\")\n",
    "    \n",
    "    outDrv = gdal.GetDriverByName(\"GTiff\")\n",
    "    outDS = outDrv.Create(outFile, diffData.shape[1], diffData.shape[0], 1, gdal.GDT_Float32,\n",
    "                              [\"TILED=YES\",\"SPARSE_OK=TRUE\",\"BIGTIFF=YES\",\"COMPRESS=LZW\",\"PREDICTOR=2\"])\n",
    "    outDS.SetGeoTransform(inGT)\n",
    "    outDS.SetProjection(inProj)\n",
    "    outBand = outDS.GetRasterBand(1)\n",
    "    outBand.WriteArray(diffData)\n",
    "    outBand.SetNoDataValue(NDV)\n",
    "    outDS = None\n",
    "    inFile = None\n",
    "    #templateDS = None\n",
    "    del diffData\n",
    "    del dayData\n",
    "    del nightData\n"
   ]
  }
 ],
 "metadata": {
  "kernelspec": {
   "display_name": "Python 2",
   "language": "python",
   "name": "python2"
  },
  "language_info": {
   "codemirror_mode": {
    "name": "ipython",
    "version": 2
   },
   "file_extension": ".py",
   "mimetype": "text/x-python",
   "name": "python",
   "nbconvert_exporter": "python",
   "pygments_lexer": "ipython2",
   "version": "2.7.5"
  }
 },
 "nbformat": 4,
 "nbformat_minor": 0
}
